{
 "cells": [
  {
   "cell_type": "code",
   "execution_count": null,
   "id": "initial_id",
   "metadata": {
    "ExecuteTime": {
     "end_time": "2024-11-06T18:19:00.469957Z",
     "start_time": "2024-11-06T18:18:52.607322Z"
    },
    "collapsed": true
   },
   "outputs": [],
   "source": [
    "import os\n",
    "from typing import List, Union, Generator, Iterator\n",
    "from pydantic import BaseModel\n",
    "from llama_index.embeddings.ollama import OllamaEmbedding\n",
    "from llama_index.llms.ollama import Ollama\n",
    "from llama_index.core import Settings, VectorStoreIndex, SimpleDirectoryReader\n",
    "\n",
    "\n",
    "class RAG:\n",
    "\n",
    "    class Parameters(BaseModel):\n",
    "        LLAMAINDEX_OLLAMA_BASE_URL: str\n",
    "        LLAMAINDEX_MODEL_NAME: str\n",
    "        LLAMAINDEX_EMBEDDING_MODEL_NAME: str\n",
    "\n",
    "    def __init__(self):\n",
    "        self.documents = None\n",
    "        self.index = None\n",
    "\n",
    "        self.parameters = self.Parameters(\n",
    "            LLAMAINDEX_OLLAMA_BASE_URL=os.getenv(\"LLAMAINDEX_OLLAMA_BASE_URL\", \"http://localhost:11434\"),\n",
    "            LLAMAINDEX_MODEL_NAME=os.getenv(\"LLAMAINDEX_MODEL_NAME\", \"llama3.2:3b\"),\n",
    "            LLAMAINDEX_EMBEDDING_MODEL_NAME=os.getenv(\"LLAMAINDEX_EMBEDDING_MODEL_NAME\", \"jina/jina-embeddings-v2-base-en:latest\"),\n",
    "        )\n",
    "\n",
    "    def on_startup(self):\n",
    "        Settings.embed_model = OllamaEmbedding(\n",
    "            model_name=self.parameters.LLAMAINDEX_EMBEDDING_MODEL_NAME,\n",
    "            base_url=self.parameters.LLAMAINDEX_OLLAMA_BASE_URL,\n",
    "        )\n",
    "        Settings.llm = Ollama(\n",
    "            model=self.parameters.LLAMAINDEX_MODEL_NAME,\n",
    "            base_url=self.parameters.LLAMAINDEX_OLLAMA_BASE_URL,\n",
    "        )\n",
    "\n",
    "        self.documents = SimpleDirectoryReader(\"dataset\").load_data()\n",
    "        self.index = VectorStoreIndex.from_documents(self.documents)\n",
    "\n",
    "    def on_shutdown(self):\n",
    "        pass\n",
    "\n",
    "    def pipe(\n",
    "        self, user_message: str, model_id: str, messages: List[dict], body: dict\n",
    "    ) -> Union[str, Generator, Iterator]:\n",
    "        query_engine = self.index.as_query_engine(streaming=True)\n",
    "        response = query_engine.query(user_message)\n",
    "        return response.response_gen\n",
    "\n",
    "\n",
    "def run_query_sync(query: str) -> str:\n",
    "    rag = RAG()\n",
    "    rag.on_startup()\n",
    "\n",
    "    user_message = query\n",
    "    model_id = \"llama3.2:3b\"\n",
    "    messages = [{\"role\": \"user\", \"content\": user_message}]\n",
    "    body = {}\n",
    "\n",
    "    response_gen = rag.pipe(user_message, model_id, messages, body)\n",
    "    response_text = ''.join(response_gen)\n",
    "\n",
    "    rag.on_shutdown()\n",
    "    return response_text\n",
    "\n",
    "\n",
    "    \n"
   ]
  },
  {
   "cell_type": "code",
   "execution_count": null,
   "id": "c6bf517150befda9",
   "metadata": {
    "ExecuteTime": {
     "end_time": "2024-11-06T18:19:34.471222Z",
     "start_time": "2024-11-06T18:19:31.568582Z"
    }
   },
   "outputs": [
    {
     "name": "stdout",
     "output_type": "stream",
     "text": [
      "\n",
      "Response:\n",
      "This query appears unrelated to the provided contract document, which discusses a project setup agreement between a client and a service provider. The language used in the query suggests a technical issue with an IMBL Scanner, while the context is focused on a contractual agreement outlining terms and conditions for a specific project. There is no apparent connection between the two.\n"
     ]
    }
   ],
   "source": [
    "query = \"Subject: IMBL Scanner Breakdown - Immediate Repair Required Dear Support Team, We are experiencing a sudden breakdown of our IMBL Scanner, rendering it non-operational. We request immediate assistance for emergency repairs to restore functionality as soon as possible. Thank you for your prompt attention to this matter. Best regards, [Customer Name]\"\n",
    "response = run_query_sync(query)\n",
    "print(\"\\nResponse:\")\n",
    "print(response)"
   ]
  }
 ],
 "metadata": {
  "kernelspec": {
   "display_name": "rag",
   "language": "python",
   "name": "python3"
  },
  "language_info": {
   "codemirror_mode": {
    "name": "ipython",
    "version": 3
   },
   "file_extension": ".py",
   "mimetype": "text/x-python",
   "name": "python",
   "nbconvert_exporter": "python",
   "pygments_lexer": "ipython3",
   "version": "3.11.10"
  }
 },
 "nbformat": 4,
 "nbformat_minor": 5
}
